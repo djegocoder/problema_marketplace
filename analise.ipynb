{
 "cells": [
  {
   "cell_type": "markdown",
   "metadata": {},
   "source": [
    "# Análise Marketplace\n",
    "\n",
    "Esse problema de marketplace foi me passado por um amigo, não tenho certeza da origem, provavelmente recebeu em um processo seletivo. Imagino que esse problema não seja mais usado para esse fim, então eu vou divulgá-lo com a minha análise como portifólio.\n",
    "\n",
    "-----\n",
    "\n",
    "# **Descrição do problema**\n",
    "\n",
    "\n",
    "Dentro da empresa existe uma equipe que é responsável por definir as características de produtos\n",
    "que vão ser construídos. Para uma categoria de liquidificadores, por exemplo, essa equipe fica\n",
    "responsável por definir a cor, volume do copo, material do copo ou mesmo se vai ter um filtro para\n",
    "suco de frutas.\n",
    "\n",
    "\n",
    "Para definir as características das diferentes categorias de produtos, a equipe procura entender\n",
    "quando o cliente se interessa por um produto. É nesse ponto que o time do Labs é chamado. O seu\n",
    "objetivo principal é desenvolver um modelo que consiga classificar o produto entre \"interessante\" e\n",
    "\"não interessante\" dados os atributos do mesmo. Além disso, é desejável que você também consiga\n",
    "indicar quais são os atributos e respectivos valores que mais impulsionam o interesse do cliente.\n",
    "Mais importante que o resultado final é a sua estratégia de solução. Deixe claro cada passo da sua\n",
    "solução e explique as decisões tomadas durante o processo. Também é importante que você nos\n",
    "mande o seu código desenvolvido (Python ou Scala). Uma sugestão é usar Jupyter Notebook.\n",
    "Assim, você consegue explicar cada ponto da sua estratégia de forma mais explícita.\n",
    "Esperamos receber de você um documento com a explicação do trabalho desenvolvido.\n",
    "\n",
    "\n",
    " **Bom trabalho!**\n",
    "\n",
    "\n",
    "Conjunto de dados\n",
    "\n",
    "\n",
    "O conjunto de dados possui os atributos de cada produto de uma categoria de panelas e se houve ou\n",
    "não interesse do cliente ao visualizar o produto no site. Cada linha é o registro da visualização de\n",
    "um cliente em determinado momento.\n",
    "\n",
    "-----"
   ]
  },
  {
   "cell_type": "markdown",
   "metadata": {},
   "source": [
    "Importando as bibliotecas e o dataframe"
   ]
  },
  {
   "cell_type": "code",
   "execution_count": null,
   "metadata": {},
   "outputs": [],
   "source": [
    "import pandas as pd\n",
    "import numpy as np"
   ]
  },
  {
   "cell_type": "code",
   "execution_count": null,
   "metadata": {},
   "outputs": [],
   "source": [
    "df = pd.read_csv('problem1_dataset.csv')"
   ]
  },
  {
   "cell_type": "markdown",
   "metadata": {},
   "source": [
    "**Análise exploratória dos dados**"
   ]
  },
  {
   "cell_type": "code",
   "execution_count": null,
   "metadata": {},
   "outputs": [],
   "source": [
    "df.sample(10)"
   ]
  },
  {
   "cell_type": "markdown",
   "metadata": {},
   "source": [
    "Reutilização de uma função útil obtina no kaggle"
   ]
  },
  {
   "cell_type": "code",
   "execution_count": null,
   "metadata": {},
   "outputs": [],
   "source": [
    "def resume(df):\n",
    "    \"\"\"\n",
    "    Objective: For a given dataframe this function provides information\n",
    "    regarding Missing and Unique values per column.\n",
    "\n",
    "    Input: param df: Dataframe to check the information.\n",
    "\n",
    "    Output: return summary: a dataframe with columns providing summary per column of the input dataframe.\n",
    "    \n",
    "    \"\"\"\n",
    "    df = df.copy()\n",
    "    #print(f\"Dataset Shape: {df.shape}\")\n",
    "    summary = pd.DataFrame(df.dtypes,columns=['dtypes'])\n",
    "    summary = summary.reset_index()\n",
    "    summary['Name'] = summary['index']\n",
    "    summary = summary[['Name','dtypes']]\n",
    "    summary['Missing'] = df.isnull().sum().values\n",
    "    summary['Missing Percentage'] = df.isnull().sum().values/len(df)\n",
    "    summary['Uniques'] = df.nunique().values\n",
    "    return summary"
   ]
  },
  {
   "cell_type": "code",
   "execution_count": null,
   "metadata": {},
   "outputs": [],
   "source": [
    "resume(df)"
   ]
  },
  {
   "cell_type": "code",
   "execution_count": null,
   "metadata": {},
   "outputs": [],
   "source": [
    "df.describe()"
   ]
  },
  {
   "cell_type": "markdown",
   "metadata": {},
   "source": [
    "Importando bibliotecas de visualização de dados"
   ]
  },
  {
   "cell_type": "code",
   "execution_count": null,
   "metadata": {},
   "outputs": [],
   "source": [
    "import matplotlib.pyplot as plt\n",
    "import matplotlib_inline\n",
    "import seaborn as sns"
   ]
  },
  {
   "cell_type": "code",
   "execution_count": null,
   "metadata": {},
   "outputs": [],
   "source": [
    "sns.histplot(df['INTERESTED'])"
   ]
  },
  {
   "cell_type": "markdown",
   "metadata": {},
   "source": [
    "Os dados retulados estão um pouco desbalanceados"
   ]
  },
  {
   "cell_type": "code",
   "execution_count": null,
   "metadata": {},
   "outputs": [],
   "source": [
    "sns.scatterplot(x=df['ITEM_ID'],y=df['INTERESTED'])"
   ]
  },
  {
   "cell_type": "code",
   "execution_count": null,
   "metadata": {},
   "outputs": [],
   "source": [
    "sns.boxplot(df['ITEM_ID'])"
   ]
  },
  {
   "cell_type": "code",
   "execution_count": null,
   "metadata": {},
   "outputs": [],
   "source": [
    "df['SESSION_ID'].max()"
   ]
  },
  {
   "cell_type": "code",
   "execution_count": null,
   "metadata": {},
   "outputs": [],
   "source": [
    "df1 = df[df['SESSION_ID']>1000]\n",
    "df2 = df[df['SESSION_ID']>1000]"
   ]
  },
  {
   "cell_type": "code",
   "execution_count": null,
   "metadata": {},
   "outputs": [],
   "source": [
    "plot = sns.histplot(df1['ITEM_ID'],bins=10)"
   ]
  },
  {
   "cell_type": "code",
   "execution_count": null,
   "metadata": {},
   "outputs": [],
   "source": [
    "plot2 = sns.histplot(df2['ITEM_ID'],bins=10)"
   ]
  },
  {
   "cell_type": "markdown",
   "metadata": {},
   "source": [
    "O atributo SESSION_ID está relacionado com o comportamento de cada usuário no sistema, para esse problema, não estamos interessados em classificar usuários, e esse atributo deve ser removido para evitar vazamento de informação."
   ]
  },
  {
   "cell_type": "markdown",
   "metadata": {},
   "source": [
    "**Ação 1- Remover coluna SESSION_ID**"
   ]
  },
  {
   "cell_type": "code",
   "execution_count": null,
   "metadata": {},
   "outputs": [],
   "source": [
    "sns.boxplot(df['ITEM_ID'])"
   ]
  },
  {
   "cell_type": "markdown",
   "metadata": {},
   "source": [
    "O mesmo efeito acontece com o atributo ITEM_ID, estamos focados nas características de um produto que são interessantes e não nos produtos que possuem essas características."
   ]
  },
  {
   "cell_type": "markdown",
   "metadata": {},
   "source": [
    "**Ação 2- Remover coluna ITEM_ID**"
   ]
  },
  {
   "cell_type": "code",
   "execution_count": null,
   "metadata": {},
   "outputs": [],
   "source": [
    "sns.histplot(df['ALTURA'],kde=True)"
   ]
  },
  {
   "cell_type": "code",
   "execution_count": null,
   "metadata": {},
   "outputs": [],
   "source": [
    "sns.histplot(df['CAPACIDADE_(L)'],kde=True)"
   ]
  },
  {
   "cell_type": "code",
   "execution_count": null,
   "metadata": {},
   "outputs": [],
   "source": [
    "sns.histplot(df['LARGURA'],kde=True)"
   ]
  },
  {
   "cell_type": "code",
   "execution_count": null,
   "metadata": {},
   "outputs": [],
   "source": [
    "grafico = sns.histplot(data=df, x='PESO', kde=True)\n",
    "grafico.set(ylim=1000)"
   ]
  },
  {
   "cell_type": "code",
   "execution_count": null,
   "metadata": {},
   "outputs": [],
   "source": [
    "sns.histplot(df['PROFUNDIDADE'], kde=True)"
   ]
  },
  {
   "cell_type": "code",
   "execution_count": null,
   "metadata": {},
   "outputs": [],
   "source": [
    "sns.histplot(df['TEMPO_GARANTIA'], kde=True)"
   ]
  },
  {
   "cell_type": "code",
   "execution_count": null,
   "metadata": {},
   "outputs": [],
   "source": [
    "df['TEMPO_GARANTIA'].unique()"
   ]
  },
  {
   "cell_type": "markdown",
   "metadata": {},
   "source": [
    "Os valores de TEMPO_GARANTIA está com unidades misturadas, meses e dias"
   ]
  },
  {
   "cell_type": "markdown",
   "metadata": {},
   "source": [
    "**Ação 3 - converter valores de TEMPO_GARANTIA para meses**"
   ]
  },
  {
   "cell_type": "code",
   "execution_count": null,
   "metadata": {},
   "outputs": [],
   "source": [
    "df['COR'].unique()"
   ]
  },
  {
   "cell_type": "code",
   "execution_count": null,
   "metadata": {},
   "outputs": [],
   "source": [
    "df['FORMATO'].unique()"
   ]
  },
  {
   "cell_type": "code",
   "execution_count": null,
   "metadata": {},
   "outputs": [],
   "source": [
    "df['COMPOSICAO'].unique()"
   ]
  },
  {
   "cell_type": "code",
   "execution_count": null,
   "metadata": {},
   "outputs": [],
   "source": [
    "df['MARCA'].unique()"
   ]
  },
  {
   "cell_type": "code",
   "execution_count": null,
   "metadata": {},
   "outputs": [],
   "source": [
    "df['TIPO_PRODUTO'].unique()"
   ]
  },
  {
   "cell_type": "code",
   "execution_count": null,
   "metadata": {},
   "outputs": [],
   "source": [
    "df[df['TIPO_PRODUTO']=='WOK'].TIPO_WOK.value_counts()"
   ]
  },
  {
   "cell_type": "code",
   "execution_count": null,
   "metadata": {},
   "outputs": [],
   "source": [
    "df[df['TIPO_PRODUTO']!='WOK'].TIPO_WOK.value_counts()"
   ]
  },
  {
   "cell_type": "markdown",
   "metadata": {},
   "source": [
    "A panela do tipo wok é uma panela com o fundo redondo como a da imagem abaixo.\n",
    "\n",
    "![Alt text](wok.jpeg)"
   ]
  },
  {
   "cell_type": "markdown",
   "metadata": {},
   "source": [
    "A informação contida no atributo TIPO_PRODUTO quando possue o valor WOK está todo contido no outro atributo TIPO_WOK. Sendo assim o valor WOK pode ser modificado para o valor neutro COMUM "
   ]
  },
  {
   "cell_type": "markdown",
   "metadata": {},
   "source": [
    "**Ação 4 - Substituir valor WOK em TIPO_PRODUTO por valor COMUM**"
   ]
  },
  {
   "cell_type": "code",
   "execution_count": null,
   "metadata": {},
   "outputs": [],
   "source": [
    "df[df['TIPO_PRODUTO']=='TAMPA'].TEM_TAMPA.value_counts()"
   ]
  },
  {
   "cell_type": "code",
   "execution_count": null,
   "metadata": {},
   "outputs": [],
   "source": [
    "df[df['TIPO_PRODUTO']!='TAMPA'].TEM_TAMPA.value_counts()"
   ]
  },
  {
   "cell_type": "markdown",
   "metadata": {},
   "source": [
    "A informação contida no atributo TIPO_PRODUTO quando possue o valor TAMPA está todo contido no outro atributo TEM_TAMPA. Sendo assim o valor TAMPA pode ser modificado para o valor neutro COMUM "
   ]
  },
  {
   "cell_type": "markdown",
   "metadata": {},
   "source": [
    "**Ação 5 - Substituir valor TAMPA em TIPO_PRODUTO por valor COMUM**"
   ]
  },
  {
   "cell_type": "code",
   "execution_count": null,
   "metadata": {},
   "outputs": [],
   "source": [
    "df[df['TIPO_PRODUTO']!='COZI-PASTA'].MARCA.value_counts()"
   ]
  },
  {
   "cell_type": "code",
   "execution_count": null,
   "metadata": {},
   "outputs": [],
   "source": [
    "df[df['TIPO_PRODUTO']!='ESPAGUETEIRA'].MARCA.value_counts()"
   ]
  },
  {
   "cell_type": "markdown",
   "metadata": {},
   "source": [
    "Uma panela TIPO_PRODUTO que é ESPAGUETEIRA provavelvente é uma panela que tem ou um escorredor de espague interno (tipo 1) ou uma tampa com um escorredor (tipo 2) como nas figuras abaixo."
   ]
  },
  {
   "cell_type": "markdown",
   "metadata": {},
   "source": [
    "![Alt text](espagueteira_1.webp)  ![Alt text](espagueteira_2.webp)"
   ]
  },
  {
   "cell_type": "markdown",
   "metadata": {},
   "source": [
    "Já o tipo COZI-PASTA é o mesmo que uma espagueteira tipo 1."
   ]
  },
  {
   "cell_type": "markdown",
   "metadata": {},
   "source": [
    "Existe uma sobreposição de informação devido a uma ação de marketing. Talvez o impacto dessa ação possa ser medida pelo modelo."
   ]
  },
  {
   "cell_type": "markdown",
   "metadata": {},
   "source": [
    "**Tratamento de dados faltantes**"
   ]
  },
  {
   "cell_type": "code",
   "execution_count": null,
   "metadata": {},
   "outputs": [],
   "source": [
    "resumo = resume(df)"
   ]
  },
  {
   "cell_type": "code",
   "execution_count": null,
   "metadata": {},
   "outputs": [],
   "source": [
    "resumo =resumo[resumo['Missing Percentage']!=0]\n",
    "resumo =resumo[resumo['Missing Percentage']<0.1]\n",
    "resumo = resumo.drop(18,axis=0)#Atributo já tratado\n",
    "resumo"
   ]
  },
  {
   "cell_type": "markdown",
   "metadata": {},
   "source": [
    "**AÇÃO 6 - As linhas serão removidas para os atributos que têm menos de 10% dos dados faltantes**"
   ]
  },
  {
   "cell_type": "markdown",
   "metadata": {},
   "source": [
    "Para os atributos categóricos \n",
    "\n",
    "**AÇÃO 7 - COMPOSIÇÃO, FORMATO e TIPO_PRODUTO**  possuem **dados faltantes** e **serão substituidos por**\n",
    "\n",
    "\n",
    "**sem_composição, sem_formato e sem_tipo** respectivamente."
   ]
  },
  {
   "cell_type": "code",
   "execution_count": null,
   "metadata": {},
   "outputs": [],
   "source": [
    "resumo2 = resume(df)\n",
    "resumo2 = resumo2[resumo2['dtypes']== 'float64']\n",
    "resumo2 = resumo2[resumo2['Missing Percentage']!= 0]\n",
    "resumo2 = resumo2.drop([1,6,11,19,18],axis=0)#Dados faltantes já tratados\n",
    "resumo2"
   ]
  },
  {
   "cell_type": "markdown",
   "metadata": {},
   "source": [
    "**Ação 8 - Os valores faltantes nas variáveis numéricas CAPACIDADE_(L), PESO e TEMPO_GARANTIA terão os dados faltantes subtituidos por 0**\n",
    "\n"
   ]
  },
  {
   "cell_type": "code",
   "execution_count": null,
   "metadata": {},
   "outputs": [],
   "source": [
    "resumo3 = resume(df)\n",
    "resumo3 = resumo3[resumo3['Uniques']<=3]\n",
    "resumo3"
   ]
  },
  {
   "cell_type": "markdown",
   "metadata": {},
   "source": [
    "Já que a porcentagem de dados faltantes é baixa e não afetaria a quantidade significativa de informação é possível removẽ-las.\n",
    "\n",
    "**Ação 9 - Para os atributos categóricos binários remover as linhas dos dados faltantes**"
   ]
  },
  {
   "cell_type": "code",
   "execution_count": null,
   "metadata": {},
   "outputs": [],
   "source": [
    "def feat_eng(dataframe):\n",
    "    df=dataframe.copy()\n",
    "\n",
    "    df.drop('SESSION_ID',axis=1,inplace=True)#Ação 1\n",
    "\n",
    "    df.drop('ITEM_ID',axis=1,inplace=True)#Ação 2\n",
    "\n",
    "    df['TEMPO_GARANTIA'].replace(1.0,12.0,inplace=True)#Ação 3\n",
    "    df['TEMPO_GARANTIA'].replace(300,10.0,inplace=True)\n",
    "    df['TEMPO_GARANTIA'].replace(60,3.0,inplace=True)\n",
    "\n",
    "    df['TIPO_PRODUTO'].replace('WOK','COMUM',inplace=True)#Ação 4\n",
    "\n",
    "    df['TIPO_PRODUTO'].replace('TAMPA','COMUM',inplace=True)#Ação 5\n",
    "\n",
    "    #df.dropna(subset=['ALTURA','COR','LARGURA','MARCA','PROFUNDIDADE','ITEM_PRICE'],axis=0,inplace=True)#Ação 6\n",
    "    #a procentagem somada das colunas removidas chegava a 40% retirando informações importantes de outroa atributos\n",
    "    df['ALTURA'].fillna(0.0,inplace=True)\n",
    "    df['COR'].fillna('Sem_cor',inplace=True)\n",
    "    df['LARGURA'].fillna(0.0,inplace=True)\n",
    "    df['MARCA'].fillna('sem_marca',inplace=True)\n",
    "    df['PROFUNDIDADE'].fillna(0.0,inplace=True)\n",
    "    df['ITEM_PRICE'].fillna(0.0,inplace=True)\n",
    "    \n",
    "    \n",
    "    df['COMPOSICAO'].fillna('sem_composição',inplace=True)#Ação 7\n",
    "    df['FORMATO'].fillna('sem_formato',inplace=True)\n",
    "    df['TIPO_PRODUTO'].fillna('sem_tipo',inplace=True)\n",
    "\n",
    "    df['CAPACIDADE_(L)'].fillna(0,inplace=True)#Ação 8\n",
    "    df['PESO'].fillna(0,inplace=True)\n",
    "    df['TEMPO_GARANTIA'].fillna(0,inplace=True)\n",
    "\n",
    "    #df.dropna(subset=['PARA_LAVA_LOUCAS','PARA_MICRO_ONDAS'],axis=0, inplace=True)#Ação 9\n",
    "    df['PARA_LAVA_LOUCAS'].fillna(0.0,inplace=True)\n",
    "    df['PARA_MICRO_ONDAS'].fillna(0.0,inplace=True)\n",
    "\n",
    "    return df\n",
    "\n",
    "    \n",
    "    "
   ]
  },
  {
   "cell_type": "code",
   "execution_count": null,
   "metadata": {},
   "outputs": [],
   "source": [
    "def num_encode(dataf):\n",
    "    binary_feat = ['TEM_FERRO_FUNDIDO','TEM_GRELHA','TIPO_WOK','PARA_LAVA_LOUCAS','PARA_MICRO_ONDAS']\n",
    "    #replecement = [['NAO',0.0],['No',0.0],['no',0.0],['SIM',1.0],['Yes',1.0],['yes',1.0]]\n",
    "    for binary in binary_feat:\n",
    "        dataf[binary].replace('NAO',0.0,inplace=True)\n",
    "        dataf[binary].replace('No',0.0,inplace=True)\n",
    "        dataf[binary].replace('no',0.0,inplace=True)\n",
    "        dataf[binary].replace('SIM',1.0,inplace=True)\n",
    "        dataf[binary].replace('Yes',1.0,inplace=True)\n",
    "        dataf[binary].replace('yes',1.0,inplace=True)\n",
    "    \n",
    "    return dataf\n"
   ]
  },
  {
   "cell_type": "code",
   "execution_count": null,
   "metadata": {},
   "outputs": [],
   "source": [
    "df"
   ]
  },
  {
   "cell_type": "code",
   "execution_count": null,
   "metadata": {},
   "outputs": [],
   "source": [
    "data = feat_eng(df)\n",
    "data"
   ]
  },
  {
   "cell_type": "code",
   "execution_count": null,
   "metadata": {},
   "outputs": [],
   "source": [
    "data = num_encode(data)\n",
    "data"
   ]
  },
  {
   "cell_type": "code",
   "execution_count": null,
   "metadata": {},
   "outputs": [],
   "source": [
    "sns.histplot(data['INTERESTED'])"
   ]
  },
  {
   "cell_type": "markdown",
   "metadata": {},
   "source": [
    "Importando bibliotecas de processamento e estimadores"
   ]
  },
  {
   "cell_type": "code",
   "execution_count": null,
   "metadata": {},
   "outputs": [],
   "source": [
    "from sklearn.pipeline import Pipeline\n",
    "from sklearn.model_selection import train_test_split\n",
    "from sklearn.preprocessing import StandardScaler, OneHotEncoder\n",
    "from sklearn.metrics import accuracy_score, confusion_matrix\n",
    "from xgboost import XGBClassifier"
   ]
  },
  {
   "cell_type": "code",
   "execution_count": null,
   "metadata": {},
   "outputs": [],
   "source": [
    "y = data['INTERESTED']\n",
    "X = data.drop(['INTERESTED'],axis=1)"
   ]
  },
  {
   "cell_type": "code",
   "execution_count": null,
   "metadata": {},
   "outputs": [],
   "source": [
    "def one_hot_enc(data_x):\n",
    "    categ_cols=['COMPOSICAO','COR','FORMATO','MARCA','TIPO_PRODUTO']\n",
    "    ohenc = OneHotEncoder(handle_unknown='ignore', sparse=False)\n",
    "    ohenc_cols = pd.DataFrame(ohenc.fit_transform(data_x[categ_cols]))\n",
    "    #ohenc_cols.categories_[0]\n",
    "    ohenc_cols.index = data_x.index\n",
    "    data_x = data_x.drop(categ_cols, axis=1)\n",
    "    return pd.concat([data_x,ohenc_cols],axis=1)"
   ]
  },
  {
   "cell_type": "code",
   "execution_count": null,
   "metadata": {},
   "outputs": [],
   "source": [
    "data = one_hot_enc(data)\n",
    "data"
   ]
  },
  {
   "cell_type": "code",
   "execution_count": null,
   "metadata": {},
   "outputs": [],
   "source": [
    "X_train, X_test, y_train, y_test = train_test_split(data,y)"
   ]
  },
  {
   "cell_type": "code",
   "execution_count": null,
   "metadata": {},
   "outputs": [],
   "source": [
    "model = XGBClassifier()"
   ]
  },
  {
   "cell_type": "code",
   "execution_count": null,
   "metadata": {},
   "outputs": [],
   "source": [
    "X_train"
   ]
  },
  {
   "cell_type": "code",
   "execution_count": null,
   "metadata": {},
   "outputs": [],
   "source": [
    "model.fit(X_train,y_train)"
   ]
  },
  {
   "cell_type": "code",
   "execution_count": null,
   "metadata": {},
   "outputs": [],
   "source": [
    "predictions = model.predict(X_test)"
   ]
  },
  {
   "cell_type": "code",
   "execution_count": null,
   "metadata": {},
   "outputs": [],
   "source": [
    "accuracy = accuracy_score(y_test,predictions)\n",
    "accuracy"
   ]
  },
  {
   "cell_type": "markdown",
   "metadata": {},
   "source": [
    "A acurácia desse modelo é de 92%, o que é um resultado muito bom."
   ]
  },
  {
   "cell_type": "code",
   "execution_count": null,
   "metadata": {},
   "outputs": [],
   "source": [
    "from sklearn.metrics import confusion_matrix, ConfusionMatrixDisplay"
   ]
  },
  {
   "cell_type": "code",
   "execution_count": null,
   "metadata": {},
   "outputs": [],
   "source": [
    "cm = confusion_matrix(y_test, predictions)\n",
    "disp = ConfusionMatrixDisplay(confusion_matrix=cm)\n",
    "disp.plot()"
   ]
  },
  {
   "cell_type": "markdown",
   "metadata": {},
   "source": [
    "Mas se observarmos a matriz de confusão é possível perceber que o modelo tem acertado muito os casos não interessantes e errado a previsão de situações interessantes. Isso porque as classes alvo estão desbalanceadas."
   ]
  },
  {
   "cell_type": "code",
   "execution_count": null,
   "metadata": {},
   "outputs": [],
   "source": [
    "from imblearn.combine import SMOTETomek"
   ]
  },
  {
   "cell_type": "code",
   "execution_count": null,
   "metadata": {},
   "outputs": [],
   "source": [
    "smt = SMOTETomek()\n",
    "X_trn_smt,y_trn_smt = smt.fit_sample(data, y)"
   ]
  },
  {
   "cell_type": "code",
   "execution_count": null,
   "metadata": {},
   "outputs": [],
   "source": [
    "sns.histplot(y_trn_smt)"
   ]
  },
  {
   "cell_type": "code",
   "execution_count": null,
   "metadata": {},
   "outputs": [],
   "source": [
    "model2 = XGBClassifier()\n",
    "model2.fit(X_trn_smt,y_trn_smt)"
   ]
  },
  {
   "cell_type": "code",
   "execution_count": null,
   "metadata": {},
   "outputs": [],
   "source": [
    "predictions2 = model2.predict(X_test)"
   ]
  },
  {
   "cell_type": "code",
   "execution_count": null,
   "metadata": {},
   "outputs": [],
   "source": [
    "accu2 = accuracy_score(predictions2,y_test)\n",
    "accu2"
   ]
  },
  {
   "cell_type": "markdown",
   "metadata": {},
   "source": [
    "A acurácia do modelo melhorado caiu para 72%."
   ]
  },
  {
   "cell_type": "code",
   "execution_count": null,
   "metadata": {},
   "outputs": [],
   "source": [
    "cm2 = confusion_matrix(y_test, predictions2)\n",
    "disp2 = ConfusionMatrixDisplay(confusion_matrix=cm2)\n",
    "disp2.plot()"
   ]
  },
  {
   "cell_type": "markdown",
   "metadata": {},
   "source": [
    "Entretanto, se olharmos para a matriz de confusão, vemos que agora os resultados estão balanceados e podemos confiar melhor neles."
   ]
  },
  {
   "cell_type": "code",
   "execution_count": null,
   "metadata": {},
   "outputs": [],
   "source": [
    "from sklearn.inspection import permutation_importance\n",
    "r = permutation_importance(model2, X_train, y_train,n_repeats=30,random_state=0)"
   ]
  },
  {
   "cell_type": "code",
   "execution_count": null,
   "metadata": {},
   "outputs": [],
   "source": [
    "for i in r.importances_mean.argsort()[::-1]:\n",
    "    if r.importances_mean[i] - 2 * r.importances_std[i] > 0:\n",
    "        print(f\"{data.iloc[i]:<8}\"\n",
    "            f\"{r.importances_mean[i]:.3f}\"\n",
    "                f\" +/- {r.importances_std[i]:.3f}\")"
   ]
  },
  {
   "cell_type": "code",
   "execution_count": null,
   "metadata": {},
   "outputs": [],
   "source": [
    "r.importances"
   ]
  },
  {
   "cell_type": "code",
   "execution_count": null,
   "metadata": {},
   "outputs": [],
   "source": [
    "importance_df = pd.DataFrame({\"gain\":model2.feature_importances_}, index=data.columns).sort_values(\"gain\", ascending=False)"
   ]
  },
  {
   "cell_type": "code",
   "execution_count": null,
   "metadata": {},
   "outputs": [],
   "source": [
    "importance_df.head(10)"
   ]
  },
  {
   "cell_type": "code",
   "execution_count": null,
   "metadata": {},
   "outputs": [],
   "source": []
  }
 ],
 "metadata": {
  "kernelspec": {
   "display_name": "Python 3.8.10 64-bit",
   "language": "python",
   "name": "python3"
  },
  "language_info": {
   "codemirror_mode": {
    "name": "ipython",
    "version": 3
   },
   "file_extension": ".py",
   "mimetype": "text/x-python",
   "name": "python",
   "nbconvert_exporter": "python",
   "pygments_lexer": "ipython3",
   "version": "3.8.10"
  },
  "orig_nbformat": 4,
  "vscode": {
   "interpreter": {
    "hash": "31f2aee4e71d21fbe5cf8b01ff0e069b9275f58929596ceb00d14d90e3e16cd6"
   }
  }
 },
 "nbformat": 4,
 "nbformat_minor": 2
}
